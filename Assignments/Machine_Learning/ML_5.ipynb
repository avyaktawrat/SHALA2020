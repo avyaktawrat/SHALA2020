{
  "nbformat": 4,
  "nbformat_minor": 0,
  "metadata": {
    "colab": {
      "name": "Copy of SVM_linear_kernelized_Assignment.ipynb",
      "provenance": [],
      "include_colab_link": true
    },
    "kernelspec": {
      "name": "python3",
      "display_name": "Python 3"
    }
  },
  "cells": [
    {
      "cell_type": "markdown",
      "metadata": {
        "id": "view-in-github",
        "colab_type": "text"
      },
      "source": [
        "<a href=\"https://colab.research.google.com/github/avyaktawrat/SHALA2020/blob/master/Assignments/Machine_Learning/ML_5.ipynb\" target=\"_parent\"><img src=\"https://colab.research.google.com/assets/colab-badge.svg\" alt=\"Open In Colab\"/></a>"
      ]
    },
    {
      "cell_type": "markdown",
      "metadata": {
        "id": "arLDVfoh4rOg",
        "colab_type": "text"
      },
      "source": [
        "#**SVM**"
      ]
    },
    {
      "cell_type": "code",
      "metadata": {
        "id": "MEEp0sf04pIP",
        "colab_type": "code",
        "colab": {}
      },
      "source": [
        "import numpy as np\n",
        "import matplotlib.pyplot as plt\n",
        "import random\n",
        "from numpy import linalg as LA"
      ],
      "execution_count": 0,
      "outputs": []
    },
    {
      "cell_type": "markdown",
      "metadata": {
        "id": "vJ2o5DL4478w",
        "colab_type": "text"
      },
      "source": [
        "\n",
        "\n",
        "---\n",
        "\n",
        "\n",
        "**Generating Random linearly separable data**\n",
        "\n",
        "\n",
        "---\n",
        "\n"
      ]
    },
    {
      "cell_type": "code",
      "metadata": {
        "id": "UbaJAhdL5BLA",
        "colab_type": "code",
        "colab": {}
      },
      "source": [
        "data = [[np.random.rand(), np.random.rand()] for i in range(10)]\n",
        "\n",
        "for i, point in enumerate(data):\n",
        "  x, y = point\n",
        "  if 0.5*x - y + 0.25 > 0:\n",
        "    data[i].append(-1)\n",
        "  else:\n",
        "    data[i].append(1)\n",
        "\n"
      ],
      "execution_count": 0,
      "outputs": []
    },
    {
      "cell_type": "markdown",
      "metadata": {
        "id": "S3afrVhJ5FSS",
        "colab_type": "text"
      },
      "source": [
        "\n",
        "\n",
        "---\n",
        "\n",
        "\n",
        "**Visualizing the above data**\n",
        "\n",
        "\n",
        "---\n",
        "\n"
      ]
    },
    {
      "cell_type": "code",
      "metadata": {
        "id": "6x0FkJik5LPi",
        "colab_type": "code",
        "outputId": "75edb6ec-41aa-4544-82e2-6966b1ff6660",
        "colab": {
          "base_uri": "https://localhost:8080/",
          "height": 269
        }
      },
      "source": [
        "for x, y, l in data:\n",
        "  if l == 1: \n",
        "    clr = 'red'\n",
        "  else: \n",
        "    clr = 'blue'\n",
        "  plt.scatter(x, y, c=clr)\n",
        "  plt.xlim(0,1)\n",
        "  plt.ylim(0,1)"
      ],
      "execution_count": 43,
      "outputs": [
        {
          "output_type": "display_data",
          "data": {
            "image/png": "[encoded data removed]",
            "text/plain": [
              "<Figure size 432x288 with 1 Axes>"
            ]
          },
          "metadata": {
            "tags": [],
            "needs_background": "light"
          }
        }
      ]
    },
    {
      "cell_type": "markdown",
      "metadata": {
        "id": "yXabL9FB5Qe1",
        "colab_type": "text"
      },
      "source": [
        "\n",
        "\n",
        "---\n",
        "\n",
        "\n",
        "**Train a SVM classifier using gradient descent and return a Weight Matrix which is a numpy array of length (N + 1) where N is dimension of training samples. You can refer to Fig. 1 in [this](https://www.cs.huji.ac.il/~shais/papers/ShalevSiSrCo10.pdf) paper for implementation. You can add arguments to svm_function according to your implementation.**\n",
        "\n",
        "\n",
        "---\n",
        "\n"
      ]
    },
    {
      "cell_type": "code",
      "metadata": {
        "id": "LpSHX3lT5VDt",
        "colab_type": "code",
        "colab": {}
      },
      "source": [
        "def svm_function(x, y, epoch, l_rate):\n",
        "    x = np.concatenate((x, np.ones(np.shape(x)[0]).reshape(-1,1)), axis = 1)\n",
        "    w = np.ones(np.shape(x)[1]).reshape(-1,1)\n",
        "    loss = []\n",
        "    # print(w.shape)\n",
        "\n",
        "    for i in range(epoch):\n",
        "        # accounting for bias in w\n",
        "        y_pred = np.dot(x, w).reshape(-1)\n",
        "        hinge_loss = (np.maximum(np.zeros_like(y_pred), 1 - np.multiply(y,y_pred))).sum()\n",
        "        loss.append(hinge_loss)\n",
        "        \n",
        "        ## update parameters\n",
        "        # for i in range (np.shape(x)[0]):\n",
        "        #     if \n",
        "        #     np.multiply(y, )\n",
        "        clipped = np.clip(np.multiply(y,y_pred), a_min= None, a_max=1)\n",
        "        y_new = np.multiply( np.sign(1-clipped), y)\n",
        "        # print(y.shape)\n",
        "        # print(np.dot(x.transpose(),-y).shape )\n",
        "        w = w - l_rate * np.dot(x.transpose(),-y_new).reshape(-1,1)\n",
        "        \n",
        "    return w, loss"
      ],
      "execution_count": 0,
      "outputs": []
    },
    {
      "cell_type": "markdown",
      "metadata": {
        "id": "-GMSHqOB5Y7n",
        "colab_type": "text"
      },
      "source": [
        "\n",
        "\n",
        "---\n",
        "\n",
        "\n",
        "**Run SVM Classifier**\n",
        "\n",
        "\n",
        "---\n",
        "\n"
      ]
    },
    {
      "cell_type": "code",
      "metadata": {
        "id": "MY2AcFkZ5d2a",
        "colab_type": "code",
        "outputId": "50cf458e-ffa7-445e-989d-35862bc4e60e",
        "colab": {
          "base_uri": "https://localhost:8080/",
          "height": 351
        }
      },
      "source": [
        "data = np.asarray(data)\n",
        "X = data[:,:2]\n",
        "Y = data[:,2]\n",
        "w, loss = svm_function(X, Y, 5000, 0.01)\n",
        "print(w)\n",
        "\n",
        "plt.plot(loss)\n",
        "plt.xlabel('epochs', fontSize=12)\n",
        "plt.ylabel('loss', fontSize=12)\n",
        "plt.title('Graph for hinge loss', fontSize=14)\n",
        "plt.show()"
      ],
      "execution_count": 44,
      "outputs": [
        {
          "output_type": "stream",
          "text": [
            "[[-1.4310205]\n",
            " [ 4.9066328]\n",
            " [-1.26     ]]\n"
          ],
          "name": "stdout"
        },
        {
          "output_type": "display_data",
          "data": {
            "image/png": "[encoded data removed]",
            "text/plain": [
              "<Figure size 432x288 with 1 Axes>"
            ]
          },
          "metadata": {
            "tags": [],
            "needs_background": "light"
          }
        }
      ]
    },
    {
      "cell_type": "markdown",
      "metadata": {
        "id": "4t6lPISE5h4e",
        "colab_type": "text"
      },
      "source": [
        "# **Visualize the classifier**\n",
        "\n",
        "\n",
        "---\n",
        "\n",
        "Write a code to draw a lines corrosponding to 'w' vector you got as output from svm_function and for a line from which actual data was generated (0.5*x - y + 0.25). \n",
        "\n",
        "---\n",
        "\n"
      ]
    },
    {
      "cell_type": "code",
      "metadata": {
        "id": "wrCLTSVx5mBF",
        "colab_type": "code",
        "outputId": "a7c30da0-7b76-4a93-d979-1382a0b110c8",
        "colab": {
          "base_uri": "https://localhost:8080/",
          "height": 265
        }
      },
      "source": [
        "a =-w[0]/w[1]\n",
        "b = -w[2]/w[1]\n",
        "xx = np.linspace(0, 1)\n",
        "yy =  a * xx + b\n",
        "\n",
        "a1 = 0.5\n",
        "b1=0.25\n",
        "yy1 =   a1 * xx + b1\n",
        "\n",
        "fig = plt.figure()\n",
        "ax = plt.subplot(111)\n",
        "for x, y, l in data:\n",
        "  if l == 1: \n",
        "    clr = 'red'\n",
        "  else: \n",
        "    clr = 'blue'\n",
        "  ax.scatter(x, y, c=clr)\n",
        "ax.plot(xx,yy,label='Optimized hyperplane')\n",
        "ax.plot(xx,yy1,label='Original hyperplane')\n",
        "ax.legend()\n",
        "plt.show()"
      ],
      "execution_count": 0,
      "outputs": [
        {
          "output_type": "display_data",
          "data": {
            "image/png": "[encoded data removed]",
            "text/plain": [
              "<Figure size 432x288 with 1 Axes>"
            ]
          },
          "metadata": {
            "tags": [],
            "needs_background": "light"
          }
        }
      ]
    },
    {
      "cell_type": "markdown",
      "metadata": {
        "id": "zSQ2B6IK7pRq",
        "colab_type": "text"
      },
      "source": [
        "#**Linearly Non-separable Data**"
      ]
    },
    {
      "cell_type": "code",
      "metadata": {
        "id": "kZ5Mt_3Z73WS",
        "colab_type": "code",
        "outputId": "a28b1ff1-46cf-4d4c-927a-f19bb64e0d7f",
        "colab": {
          "base_uri": "https://localhost:8080/",
          "height": 279
        }
      },
      "source": [
        "from sklearn.datasets import make_circles\n",
        "from matplotlib import pyplot\n",
        "from pandas import DataFrame\n",
        "import numpy as np\n",
        "\n",
        "# generate 2d classification dataset\n",
        "X, y = make_circles(n_samples=100, noise=0.05, random_state=0)\n",
        "# scatter plot, dots colored by class value\n",
        "df = DataFrame(dict(x=X[:,0], y=X[:,1], label=y))\n",
        "colors = {0:'red', 1:'blue'}\n",
        "fig, ax = pyplot.subplots()\n",
        "grouped = df.groupby('label')\n",
        "for key, group in grouped:\n",
        "    group.plot(ax=ax, kind='scatter', x='x', y='y', label=key, color=colors[key])\n",
        "pyplot.show()"
      ],
      "execution_count": 1,
      "outputs": [
        {
          "output_type": "display_data",
          "data": {
            "image/png": "[encoded data removed]",
            "text/plain": [
              "<Figure size 432x288 with 1 Axes>"
            ]
          },
          "metadata": {
            "tags": [],
            "needs_background": "light"
          }
        }
      ]
    },
    {
      "cell_type": "markdown",
      "metadata": {
        "id": "SDtuOIuy6xPL",
        "colab_type": "text"
      },
      "source": [
        "\n",
        "\n",
        "---\n",
        "\n",
        "\n",
        "**Train a SVM classifier on the linearly non-separable data by appropriate features crafted from input data For linearly non-separable data, you need to transform the data in a space where it can be linearly seprable.\n",
        "These features can be exponential, polynomial, trignometric or any other function of actual input features.\n",
        "For example, if your input data is (x1, x2) you can have hand-crafted features as (sin(x1), cos(x1), cos(x2), x1-x2).\n",
        "Here you need to think of which hand-crafted features can be best suited for data given to you.\n",
        "Write a function to convert input features to hand-crafted features. Use these features to train a SVM using svm_function.\n",
        "Note that, if you choose to have L hand-crafted features, SVM will return L+1 dimensional 'w'.**\n",
        "\n",
        "\n",
        "---\n",
        "\n"
      ]
    },
    {
      "cell_type": "code",
      "metadata": {
        "id": "o_8arrZuZxzg",
        "colab_type": "code",
        "outputId": "a6ae2654-83e3-456c-e3cc-a9bb941ecbb3",
        "colab": {
          "base_uri": "https://localhost:8080/",
          "height": 351
        }
      },
      "source": [
        "df['z'] = df.x**2 + df.y**2\n",
        "df['tan_x'] = df.y / df.x\n",
        "\n",
        "X = df[['z','tan_x']].to_numpy()\n",
        "Y = (df['label'].to_numpy())*2 - 1\n",
        "w, loss = svm_function(X, Y, 25000, 0.0003)\n",
        "print(w)\n",
        "\n",
        "plt.plot(loss)\n",
        "plt.xlabel('epochs', fontSize=12)\n",
        "plt.ylabel('loss', fontSize=12)\n",
        "plt.title('Graph for hinge loss', fontSize=14)\n",
        "plt.show()"
      ],
      "execution_count": 66,
      "outputs": [
        {
          "output_type": "stream",
          "text": [
            "[[-11.64847754]\n",
            " [ -0.03983829]\n",
            " [  9.6604    ]]\n"
          ],
          "name": "stdout"
        },
        {
          "output_type": "display_data",
          "data": {
            "image/png": "[encoded data removed]",
            "text/plain": [
              "<Figure size 432x288 with 1 Axes>"
            ]
          },
          "metadata": {
            "tags": [],
            "needs_background": "light"
          }
        }
      ]
    },
    {
      "cell_type": "markdown",
      "metadata": {
        "id": "k9RC8lVS81F8",
        "colab_type": "text"
      },
      "source": [
        "\n",
        "\n",
        "---\n",
        "\n",
        "\n",
        "**Visualize the data points in the new feature space \"if possible\" to see whether they got separated or not.**\n",
        "\n",
        "\n",
        "---\n",
        "\n"
      ]
    },
    {
      "cell_type": "code",
      "metadata": {
        "id": "T_M3rNKF7g-W",
        "colab_type": "code",
        "colab": {
          "base_uri": "https://localhost:8080/",
          "height": 269
        },
        "outputId": "8c4025d3-6740-4806-bc1f-07dc8471cca3"
      },
      "source": [
        "import matplotlib.pyplot as plt\n",
        "\n",
        "colormap = np.array(['r', 'b'])\n",
        "\n",
        "a =-w[0]/w[1]\n",
        "b = -w[2]/w[1]\n",
        "xx = np.linspace(0.4, 1.4)\n",
        "yy =  a * xx + b\n",
        "\n",
        "plt.scatter(df.z, df.tan_x, c = colormap[df['label']])\n",
        "plt.plot(xx,yy,label='Optimized hyperplane')\n",
        "plt.ylim(-20,20)\n",
        "plt.legend()\n",
        "plt.show()"
      ],
      "execution_count": 67,
      "outputs": [
        {
          "output_type": "display_data",
          "data": {
            "image/png": "[encoded data removed]",
            "text/plain": [
              "<Figure size 432x288 with 1 Axes>"
            ]
          },
          "metadata": {
            "tags": [],
            "needs_background": "light"
          }
        }
      ]
    }
  ]
}