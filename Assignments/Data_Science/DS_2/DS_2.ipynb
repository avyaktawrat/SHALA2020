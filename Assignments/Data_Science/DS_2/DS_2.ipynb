{
  "nbformat": 4,
  "nbformat_minor": 0,
  "metadata": {
    "colab": {
      "name": "DS_L2_17_Apr_Assignment_2_DS.ipynb",
      "provenance": [],
      "collapsed_sections": [],
      "toc_visible": true,
      "include_colab_link": true
    },
    "kernelspec": {
      "name": "python3",
      "display_name": "Python 3"
    }
  },
  "cells": [
    {
      "cell_type": "markdown",
      "metadata": {
        "id": "view-in-github",
        "colab_type": "text"
      },
      "source": [
        "<a href=\"https://colab.research.google.com/github/avyaktawrat/SHALA2020/blob/master/Assignments/Data_Science/DS_2/DS_2.ipynb\" target=\"_parent\"><img src=\"https://colab.research.google.com/assets/colab-badge.svg\" alt=\"Open In Colab\"/></a>"
      ]
    },
    {
      "cell_type": "markdown",
      "metadata": {
        "id": "1X6ddOR8HFsX",
        "colab_type": "text"
      },
      "source": [
        "\n",
        "# **Assignment - 2: Basic Data Understanding**\n",
        "\n",
        "---\n",
        "\n",
        "This assignment will get you familiarized with Python libraries and  functions required for data visualization."
      ]
    },
    {
      "cell_type": "code",
      "metadata": {
        "id": "xfYhvjD8_Dk1",
        "colab_type": "code",
        "outputId": "5f19f478-5c80-4e95-a89b-78e9d7a8929a",
        "colab": {
          "base_uri": "https://localhost:8080/",
          "height": 55
        }
      },
      "source": [
        "# from google.colab import drive\n",
        "# drive.mount('/content/drive')"
      ],
      "execution_count": 1,
      "outputs": [
        {
          "output_type": "stream",
          "text": [
            "Drive already mounted at /content/drive; to attempt to forcibly remount, call drive.mount(\"/content/drive\", force_remount=True).\n"
          ],
          "name": "stdout"
        }
      ]
    },
    {
      "cell_type": "code",
      "metadata": {
        "id": "zXs0iGHPB8fi",
        "colab_type": "code",
        "outputId": "8b389150-a0e5-4bb8-87a3-43591b9ca33b",
        "colab": {
          "base_uri": "https://localhost:8080/",
          "height": 35
        }
      },
      "source": [
        "# /content/drive/My Drive/Colab Notebooks/SHALA2020 Assignments/DS_2 Assignment\n",
        "# %cd drive/My Drive/Colab Notebooks/SHALA2020 Assignments/DS_2 Assignment/"
      ],
      "execution_count": 2,
      "outputs": [
        {
          "output_type": "stream",
          "text": [
            "/content/drive/My Drive/Colab Notebooks/SHALA2020 Assignments/DS_2 Assignment\n"
          ],
          "name": "stdout"
        }
      ]
    },
    {
      "cell_type": "markdown",
      "metadata": {
        "id": "XRd4EfXN5fQb",
        "colab_type": "text"
      },
      "source": [
        "---\n",
        "## Part 1 - Loading data \n",
        "---"
      ]
    },
    {
      "cell_type": "markdown",
      "metadata": {
        "id": "Q7W6I-fVIoqp",
        "colab_type": "text"
      },
      "source": [
        "###Import the following libraries:  \n",
        "\n",
        "* ```numpy``` with an alias name ```np```, \n",
        "* ```pandas``` with an alias name ```pd```, \n",
        "* ```matplotlib.pyplot``` with an alias name ```plt```, and \n",
        "* ```seaborn``` with an alias name ```sns```. "
      ]
    },
    {
      "cell_type": "code",
      "metadata": {
        "id": "NihF3MwIGI4m",
        "colab_type": "code",
        "outputId": "e782e318-7332-44e7-fcca-992e87a310ea",
        "colab": {
          "base_uri": "https://localhost:8080/",
          "height": 72
        }
      },
      "source": [
        "# Load the four libraries with their aliases \n",
        "import numpy as np\n",
        "import pandas as pd\n",
        "import matplotlib.pyplot as plt\n",
        "import seaborn as sns"
      ],
      "execution_count": 3,
      "outputs": [
        {
          "output_type": "stream",
          "text": [
            "/usr/local/lib/python3.6/dist-packages/statsmodels/tools/_testing.py:19: FutureWarning: pandas.util.testing is deprecated. Use the functions in the public API at pandas.testing instead.\n",
            "  import pandas.util.testing as tm\n"
          ],
          "name": "stderr"
        }
      ]
    },
    {
      "cell_type": "markdown",
      "metadata": {
        "id": "dsLj-TSQJgMb",
        "colab_type": "text"
      },
      "source": [
        "### Using the files ```train.csv``` and ```moviesData.csv```,  peform the following:\n",
        "\n",
        "* Load these file as ```pandas``` dataframes and store it in variables named ```df``` and ```movies``` respectively. \n",
        "* Print the first ten rows of ```df```. \n",
        "\n"
      ]
    },
    {
      "cell_type": "code",
      "metadata": {
        "id": "3AjvT40AGIq6",
        "colab_type": "code",
        "colab": {}
      },
      "source": [
        "# Load the file as a dataframe \n",
        "df = pd.read_csv(\"train.csv\")\n",
        "movies = pd.read_csv(\"moviesData.csv\")"
      ],
      "execution_count": 0,
      "outputs": []
    },
    {
      "cell_type": "code",
      "metadata": {
        "id": "7eCo7WlMGMkn",
        "colab_type": "code",
        "outputId": "ed566b8b-ec3f-4c48-e510-1e6b2073bd4c",
        "colab": {
          "base_uri": "https://localhost:8080/",
          "height": 549
        }
      },
      "source": [
        "# Print the first ten rows of df\n",
        "df.head(10)"
      ],
      "execution_count": 5,
      "outputs": [
        {
          "output_type": "execute_result",
          "data": {
            "text/html": [
              "<div>\n",
              "<style scoped>\n",
              "    .dataframe tbody tr th:only-of-type {\n",
              "        vertical-align: middle;\n",
              "    }\n",
              "\n",
              "    .dataframe tbody tr th {\n",
              "        vertical-align: top;\n",
              "    }\n",
              "\n",
              "    .dataframe thead th {\n",
              "        text-align: right;\n",
              "    }\n",
              "</style>\n",
              "<table border=\"1\" class=\"dataframe\">\n",
              "  <thead>\n",
              "    <tr style=\"text-align: right;\">\n",
              "      <th></th>\n",
              "      <th>Age</th>\n",
              "      <th>Attrition</th>\n",
              "      <th>BusinessTravel</th>\n",
              "      <th>DailyRate</th>\n",
              "      <th>Department</th>\n",
              "      <th>DistanceFromHome</th>\n",
              "      <th>Education</th>\n",
              "      <th>EducationField</th>\n",
              "      <th>EmployeeCount</th>\n",
              "      <th>EmployeeNumber</th>\n",
              "      <th>EnvironmentSatisfaction</th>\n",
              "      <th>Gender</th>\n",
              "      <th>HourlyRate</th>\n",
              "      <th>JobInvolvement</th>\n",
              "      <th>JobLevel</th>\n",
              "      <th>JobRole</th>\n",
              "      <th>JobSatisfaction</th>\n",
              "      <th>MaritalStatus</th>\n",
              "      <th>MonthlyIncome</th>\n",
              "      <th>MonthlyRate</th>\n",
              "      <th>NumCompaniesWorked</th>\n",
              "      <th>OverTime</th>\n",
              "      <th>PercentSalaryHike</th>\n",
              "      <th>PerformanceRating</th>\n",
              "      <th>RelationshipSatisfaction</th>\n",
              "      <th>StockOptionLevel</th>\n",
              "      <th>TotalWorkingYears</th>\n",
              "      <th>TrainingTimesLastYear</th>\n",
              "      <th>WorkLifeBalance</th>\n",
              "      <th>YearsAtCompany</th>\n",
              "      <th>YearsInCurrentRole</th>\n",
              "      <th>YearsSinceLastPromotion</th>\n",
              "      <th>YearsWithCurrManager</th>\n",
              "      <th>ID</th>\n",
              "    </tr>\n",
              "  </thead>\n",
              "  <tbody>\n",
              "    <tr>\n",
              "      <th>0</th>\n",
              "      <td>41</td>\n",
              "      <td>1</td>\n",
              "      <td>Travel_Rarely</td>\n",
              "      <td>1102</td>\n",
              "      <td>Sales</td>\n",
              "      <td>1</td>\n",
              "      <td>2</td>\n",
              "      <td>Life Sciences</td>\n",
              "      <td>1</td>\n",
              "      <td>1</td>\n",
              "      <td>2</td>\n",
              "      <td>Female</td>\n",
              "      <td>94</td>\n",
              "      <td>3</td>\n",
              "      <td>2</td>\n",
              "      <td>Sales Executive</td>\n",
              "      <td>4</td>\n",
              "      <td>Single</td>\n",
              "      <td>5993</td>\n",
              "      <td>19479</td>\n",
              "      <td>8</td>\n",
              "      <td>Yes</td>\n",
              "      <td>11</td>\n",
              "      <td>3</td>\n",
              "      <td>1</td>\n",
              "      <td>0</td>\n",
              "      <td>8</td>\n",
              "      <td>0</td>\n",
              "      <td>1</td>\n",
              "      <td>6</td>\n",
              "      <td>4</td>\n",
              "      <td>0</td>\n",
              "      <td>5</td>\n",
              "      <td>0</td>\n",
              "    </tr>\n",
              "    <tr>\n",
              "      <th>1</th>\n",
              "      <td>49</td>\n",
              "      <td>0</td>\n",
              "      <td>Travel_Frequently</td>\n",
              "      <td>279</td>\n",
              "      <td>Research &amp; Development</td>\n",
              "      <td>8</td>\n",
              "      <td>1</td>\n",
              "      <td>Life Sciences</td>\n",
              "      <td>1</td>\n",
              "      <td>2</td>\n",
              "      <td>3</td>\n",
              "      <td>Male</td>\n",
              "      <td>61</td>\n",
              "      <td>2</td>\n",
              "      <td>2</td>\n",
              "      <td>Research Scientist</td>\n",
              "      <td>2</td>\n",
              "      <td>Married</td>\n",
              "      <td>5130</td>\n",
              "      <td>24907</td>\n",
              "      <td>1</td>\n",
              "      <td>No</td>\n",
              "      <td>23</td>\n",
              "      <td>4</td>\n",
              "      <td>4</td>\n",
              "      <td>1</td>\n",
              "      <td>10</td>\n",
              "      <td>3</td>\n",
              "      <td>3</td>\n",
              "      <td>10</td>\n",
              "      <td>7</td>\n",
              "      <td>1</td>\n",
              "      <td>7</td>\n",
              "      <td>1</td>\n",
              "    </tr>\n",
              "    <tr>\n",
              "      <th>2</th>\n",
              "      <td>37</td>\n",
              "      <td>1</td>\n",
              "      <td>Travel_Rarely</td>\n",
              "      <td>1373</td>\n",
              "      <td>Research &amp; Development</td>\n",
              "      <td>2</td>\n",
              "      <td>2</td>\n",
              "      <td>Other</td>\n",
              "      <td>1</td>\n",
              "      <td>4</td>\n",
              "      <td>4</td>\n",
              "      <td>Male</td>\n",
              "      <td>92</td>\n",
              "      <td>2</td>\n",
              "      <td>1</td>\n",
              "      <td>Laboratory Technician</td>\n",
              "      <td>3</td>\n",
              "      <td>Single</td>\n",
              "      <td>2090</td>\n",
              "      <td>2396</td>\n",
              "      <td>6</td>\n",
              "      <td>Yes</td>\n",
              "      <td>15</td>\n",
              "      <td>3</td>\n",
              "      <td>2</td>\n",
              "      <td>0</td>\n",
              "      <td>7</td>\n",
              "      <td>3</td>\n",
              "      <td>3</td>\n",
              "      <td>0</td>\n",
              "      <td>0</td>\n",
              "      <td>0</td>\n",
              "      <td>0</td>\n",
              "      <td>2</td>\n",
              "    </tr>\n",
              "    <tr>\n",
              "      <th>3</th>\n",
              "      <td>33</td>\n",
              "      <td>0</td>\n",
              "      <td>Travel_Frequently</td>\n",
              "      <td>1392</td>\n",
              "      <td>Research &amp; Development</td>\n",
              "      <td>3</td>\n",
              "      <td>4</td>\n",
              "      <td>Life Sciences</td>\n",
              "      <td>1</td>\n",
              "      <td>5</td>\n",
              "      <td>4</td>\n",
              "      <td>Female</td>\n",
              "      <td>56</td>\n",
              "      <td>3</td>\n",
              "      <td>1</td>\n",
              "      <td>Research Scientist</td>\n",
              "      <td>3</td>\n",
              "      <td>Married</td>\n",
              "      <td>2909</td>\n",
              "      <td>23159</td>\n",
              "      <td>1</td>\n",
              "      <td>Yes</td>\n",
              "      <td>11</td>\n",
              "      <td>3</td>\n",
              "      <td>3</td>\n",
              "      <td>0</td>\n",
              "      <td>8</td>\n",
              "      <td>3</td>\n",
              "      <td>3</td>\n",
              "      <td>8</td>\n",
              "      <td>7</td>\n",
              "      <td>3</td>\n",
              "      <td>0</td>\n",
              "      <td>3</td>\n",
              "    </tr>\n",
              "    <tr>\n",
              "      <th>4</th>\n",
              "      <td>27</td>\n",
              "      <td>0</td>\n",
              "      <td>Travel_Rarely</td>\n",
              "      <td>591</td>\n",
              "      <td>Research &amp; Development</td>\n",
              "      <td>2</td>\n",
              "      <td>1</td>\n",
              "      <td>Medical</td>\n",
              "      <td>1</td>\n",
              "      <td>7</td>\n",
              "      <td>1</td>\n",
              "      <td>Male</td>\n",
              "      <td>40</td>\n",
              "      <td>3</td>\n",
              "      <td>1</td>\n",
              "      <td>Laboratory Technician</td>\n",
              "      <td>2</td>\n",
              "      <td>Married</td>\n",
              "      <td>3468</td>\n",
              "      <td>16632</td>\n",
              "      <td>9</td>\n",
              "      <td>No</td>\n",
              "      <td>12</td>\n",
              "      <td>3</td>\n",
              "      <td>4</td>\n",
              "      <td>1</td>\n",
              "      <td>6</td>\n",
              "      <td>3</td>\n",
              "      <td>3</td>\n",
              "      <td>2</td>\n",
              "      <td>2</td>\n",
              "      <td>2</td>\n",
              "      <td>2</td>\n",
              "      <td>4</td>\n",
              "    </tr>\n",
              "    <tr>\n",
              "      <th>5</th>\n",
              "      <td>32</td>\n",
              "      <td>0</td>\n",
              "      <td>Travel_Frequently</td>\n",
              "      <td>1005</td>\n",
              "      <td>Research &amp; Development</td>\n",
              "      <td>2</td>\n",
              "      <td>2</td>\n",
              "      <td>Life Sciences</td>\n",
              "      <td>1</td>\n",
              "      <td>8</td>\n",
              "      <td>4</td>\n",
              "      <td>Male</td>\n",
              "      <td>79</td>\n",
              "      <td>3</td>\n",
              "      <td>1</td>\n",
              "      <td>Laboratory Technician</td>\n",
              "      <td>4</td>\n",
              "      <td>Single</td>\n",
              "      <td>3068</td>\n",
              "      <td>11864</td>\n",
              "      <td>0</td>\n",
              "      <td>No</td>\n",
              "      <td>13</td>\n",
              "      <td>3</td>\n",
              "      <td>3</td>\n",
              "      <td>0</td>\n",
              "      <td>8</td>\n",
              "      <td>2</td>\n",
              "      <td>2</td>\n",
              "      <td>7</td>\n",
              "      <td>7</td>\n",
              "      <td>3</td>\n",
              "      <td>6</td>\n",
              "      <td>5</td>\n",
              "    </tr>\n",
              "    <tr>\n",
              "      <th>6</th>\n",
              "      <td>59</td>\n",
              "      <td>0</td>\n",
              "      <td>Travel_Rarely</td>\n",
              "      <td>1324</td>\n",
              "      <td>Research &amp; Development</td>\n",
              "      <td>3</td>\n",
              "      <td>3</td>\n",
              "      <td>Medical</td>\n",
              "      <td>1</td>\n",
              "      <td>10</td>\n",
              "      <td>3</td>\n",
              "      <td>Female</td>\n",
              "      <td>81</td>\n",
              "      <td>4</td>\n",
              "      <td>1</td>\n",
              "      <td>Laboratory Technician</td>\n",
              "      <td>1</td>\n",
              "      <td>Married</td>\n",
              "      <td>2670</td>\n",
              "      <td>9964</td>\n",
              "      <td>4</td>\n",
              "      <td>Yes</td>\n",
              "      <td>20</td>\n",
              "      <td>4</td>\n",
              "      <td>1</td>\n",
              "      <td>3</td>\n",
              "      <td>12</td>\n",
              "      <td>3</td>\n",
              "      <td>2</td>\n",
              "      <td>1</td>\n",
              "      <td>0</td>\n",
              "      <td>0</td>\n",
              "      <td>0</td>\n",
              "      <td>6</td>\n",
              "    </tr>\n",
              "    <tr>\n",
              "      <th>7</th>\n",
              "      <td>30</td>\n",
              "      <td>0</td>\n",
              "      <td>Travel_Rarely</td>\n",
              "      <td>1358</td>\n",
              "      <td>Research &amp; Development</td>\n",
              "      <td>24</td>\n",
              "      <td>1</td>\n",
              "      <td>Life Sciences</td>\n",
              "      <td>1</td>\n",
              "      <td>11</td>\n",
              "      <td>4</td>\n",
              "      <td>Male</td>\n",
              "      <td>67</td>\n",
              "      <td>3</td>\n",
              "      <td>1</td>\n",
              "      <td>Laboratory Technician</td>\n",
              "      <td>3</td>\n",
              "      <td>Divorced</td>\n",
              "      <td>2693</td>\n",
              "      <td>13335</td>\n",
              "      <td>1</td>\n",
              "      <td>No</td>\n",
              "      <td>22</td>\n",
              "      <td>4</td>\n",
              "      <td>2</td>\n",
              "      <td>1</td>\n",
              "      <td>1</td>\n",
              "      <td>2</td>\n",
              "      <td>3</td>\n",
              "      <td>1</td>\n",
              "      <td>0</td>\n",
              "      <td>0</td>\n",
              "      <td>0</td>\n",
              "      <td>7</td>\n",
              "    </tr>\n",
              "    <tr>\n",
              "      <th>8</th>\n",
              "      <td>38</td>\n",
              "      <td>0</td>\n",
              "      <td>Travel_Frequently</td>\n",
              "      <td>216</td>\n",
              "      <td>Research &amp; Development</td>\n",
              "      <td>23</td>\n",
              "      <td>3</td>\n",
              "      <td>Life Sciences</td>\n",
              "      <td>1</td>\n",
              "      <td>12</td>\n",
              "      <td>4</td>\n",
              "      <td>Male</td>\n",
              "      <td>44</td>\n",
              "      <td>2</td>\n",
              "      <td>3</td>\n",
              "      <td>Manufacturing Director</td>\n",
              "      <td>3</td>\n",
              "      <td>Single</td>\n",
              "      <td>9526</td>\n",
              "      <td>8787</td>\n",
              "      <td>0</td>\n",
              "      <td>No</td>\n",
              "      <td>21</td>\n",
              "      <td>4</td>\n",
              "      <td>2</td>\n",
              "      <td>0</td>\n",
              "      <td>10</td>\n",
              "      <td>2</td>\n",
              "      <td>3</td>\n",
              "      <td>9</td>\n",
              "      <td>7</td>\n",
              "      <td>1</td>\n",
              "      <td>8</td>\n",
              "      <td>8</td>\n",
              "    </tr>\n",
              "    <tr>\n",
              "      <th>9</th>\n",
              "      <td>36</td>\n",
              "      <td>0</td>\n",
              "      <td>Travel_Rarely</td>\n",
              "      <td>1299</td>\n",
              "      <td>Research &amp; Development</td>\n",
              "      <td>27</td>\n",
              "      <td>3</td>\n",
              "      <td>Medical</td>\n",
              "      <td>1</td>\n",
              "      <td>13</td>\n",
              "      <td>3</td>\n",
              "      <td>Male</td>\n",
              "      <td>94</td>\n",
              "      <td>3</td>\n",
              "      <td>2</td>\n",
              "      <td>Healthcare Representative</td>\n",
              "      <td>3</td>\n",
              "      <td>Married</td>\n",
              "      <td>5237</td>\n",
              "      <td>16577</td>\n",
              "      <td>6</td>\n",
              "      <td>No</td>\n",
              "      <td>13</td>\n",
              "      <td>3</td>\n",
              "      <td>2</td>\n",
              "      <td>2</td>\n",
              "      <td>17</td>\n",
              "      <td>3</td>\n",
              "      <td>2</td>\n",
              "      <td>7</td>\n",
              "      <td>7</td>\n",
              "      <td>7</td>\n",
              "      <td>7</td>\n",
              "      <td>9</td>\n",
              "    </tr>\n",
              "  </tbody>\n",
              "</table>\n",
              "</div>"
            ],
            "text/plain": [
              "   Age  Attrition  ... YearsWithCurrManager  ID\n",
              "0   41          1  ...                    5   0\n",
              "1   49          0  ...                    7   1\n",
              "2   37          1  ...                    0   2\n",
              "3   33          0  ...                    0   3\n",
              "4   27          0  ...                    2   4\n",
              "5   32          0  ...                    6   5\n",
              "6   59          0  ...                    0   6\n",
              "7   30          0  ...                    0   7\n",
              "8   38          0  ...                    8   8\n",
              "9   36          0  ...                    7   9\n",
              "\n",
              "[10 rows x 34 columns]"
            ]
          },
          "metadata": {
            "tags": []
          },
          "execution_count": 5
        }
      ]
    },
    {
      "cell_type": "markdown",
      "metadata": {
        "id": "PSm-U7LEF5u_",
        "colab_type": "text"
      },
      "source": [
        "### Using the dataframe ```df```, perform the following: \n",
        "\n",
        "* Print the first five rows of the column ```MonthlyRate```. \n",
        "* Find out the details of the column ```MonthlyRate``` like mean, maximum value, minimum value, etc. "
      ]
    },
    {
      "cell_type": "code",
      "metadata": {
        "id": "QS5LttI-GT2f",
        "colab_type": "code",
        "outputId": "767d1904-b4cb-4731-e3a3-74deae2364f7",
        "colab": {
          "base_uri": "https://localhost:8080/",
          "height": 121
        }
      },
      "source": [
        "# Print the first five rows of MonthlyRate\n",
        "print(df['MonthlyRate'].head())"
      ],
      "execution_count": 6,
      "outputs": [
        {
          "output_type": "stream",
          "text": [
            "0    19479\n",
            "1    24907\n",
            "2     2396\n",
            "3    23159\n",
            "4    16632\n",
            "Name: MonthlyRate, dtype: int64\n"
          ],
          "name": "stdout"
        }
      ]
    },
    {
      "cell_type": "code",
      "metadata": {
        "id": "EzQ1a1M0GURm",
        "colab_type": "code",
        "colab": {
          "base_uri": "https://localhost:8080/",
          "height": 173
        },
        "outputId": "4f176836-beb3-4a82-b265-9db5ae6fb188"
      },
      "source": [
        "# Find the details of MonthlyRate \n",
        "df['MonthlyRate'].describe()"
      ],
      "execution_count": 7,
      "outputs": [
        {
          "output_type": "execute_result",
          "data": {
            "text/plain": [
              "count     1028.000000\n",
              "mean     14243.531128\n",
              "std       7048.768076\n",
              "min       2094.000000\n",
              "25%       8259.750000\n",
              "50%      14074.500000\n",
              "75%      20342.250000\n",
              "max      26999.000000\n",
              "Name: MonthlyRate, dtype: float64"
            ]
          },
          "metadata": {
            "tags": []
          },
          "execution_count": 7
        }
      ]
    },
    {
      "cell_type": "markdown",
      "metadata": {
        "id": "3h-YOTvPQI48",
        "colab_type": "text"
      },
      "source": [
        "---\n",
        "## Part 2 - Cleaning and manipulating data \n",
        "---"
      ]
    },
    {
      "cell_type": "markdown",
      "metadata": {
        "id": "EtLzBibsQfXu",
        "colab_type": "text"
      },
      "source": [
        "### Using the dataframe ```df```, peform the following:\n",
        "\n",
        "* Check whether there are any missing values in ```df```. \n",
        "* If yes, drop those values and print the size of ```df``` after dropping these. "
      ]
    },
    {
      "cell_type": "code",
      "metadata": {
        "id": "XG-UK53fRDRZ",
        "colab_type": "code",
        "colab": {
          "base_uri": "https://localhost:8080/",
          "height": 69
        },
        "outputId": "bc7490d1-ee88-4089-8386-f3182bb8ee95"
      },
      "source": [
        "# Check for missing values \n",
        "print ('Number of Missing Observations is: {}'.format(df.isna().sum().sum()))\n",
        "\n",
        "# Drop the missing values \n",
        "df = df.dropna()\n",
        "\n",
        "# Print the size of df after dropping \n",
        "print('Size after dropping null value: {}'.format(df.shape))\n",
        "print(\"No null values in this case, hence size remains unchanged\")"
      ],
      "execution_count": 8,
      "outputs": [
        {
          "output_type": "stream",
          "text": [
            "Number of Missing Observations is: 0\n",
            "Size after dropping null value: (1028, 34)\n",
            "No null values in this case, hence size remains unchanged\n"
          ],
          "name": "stdout"
        }
      ]
    },
    {
      "cell_type": "markdown",
      "metadata": {
        "id": "qtoGcl2XRWnS",
        "colab_type": "text"
      },
      "source": [
        "### Using the dataframe ```df```, peform the following:\n",
        "\n",
        "* Add another column named ```MonthRateNew``` in ```df``` by subtracting the mean from ```MonthlyRate``` and dividing it by standard deviation. "
      ]
    },
    {
      "cell_type": "code",
      "metadata": {
        "id": "zDMncSUKR12P",
        "colab_type": "code",
        "colab": {}
      },
      "source": [
        "# Add a column named MonthRateNew \n",
        "df['MonthRateNew'] = (df['MonthlyRate'] - df['MonthlyRate'].mean())/ (df['MonthlyRate'].std())"
      ],
      "execution_count": 0,
      "outputs": []
    },
    {
      "cell_type": "markdown",
      "metadata": {
        "id": "pcbN7jep13og",
        "colab_type": "text"
      },
      "source": [
        "### Using the dataframe ```movies```, perform the following: \n",
        "\n",
        "* Check whether there are any missing values in ```movies```. \n",
        "* Find out the number of observations/rows having any of their features/columns missing. \n",
        "* Drop the missing values and print the size of ```movies``` after dropping these. \n",
        "* Instead of dropping the missing values, replace the missing values by their mean (or some suitable value). \n"
      ]
    },
    {
      "cell_type": "code",
      "metadata": {
        "colab_type": "code",
        "outputId": "dc2cc658-6b6a-43ac-fb89-25e2423cb7b7",
        "id": "FB2HXn3W7tib",
        "colab": {
          "base_uri": "https://localhost:8080/",
          "height": 87
        }
      },
      "source": [
        "# Check for missing values \n",
        "print ('Number of Missing Observations is: {}'.format(movies.isna().sum().sum()))\n",
        "print(\"No of rows having any missing feature is {}\".format(len(movies)-len(movies.dropna())))\n",
        "\n",
        "# Drop the missing values \n",
        "movies_dropped = movies.dropna()\n",
        "print('Size after dropping null value: {}'.format(movies_dropped.shape))\n",
        "\n",
        "# Replace the missing values \n",
        "# You can use SimpleImputer of sklearn for this\n",
        "\n",
        "from sklearn.impute import SimpleImputer\n",
        "\n",
        "imp_mean = SimpleImputer(strategy='mean')\n",
        "imp_median = SimpleImputer(strategy='median')\n",
        "imp_freq = SimpleImputer(missing_values=np.nan,strategy='most_frequent')\n",
        "\n",
        "movies['runtime'] = imp_mean.fit_transform(movies[['runtime']])\n",
        "movies[['dvd_rel_year','dvd_rel_month','dvd_rel_day']] = imp_median.fit_transform(movies[['dvd_rel_year','dvd_rel_month','dvd_rel_day']])\n",
        "\n",
        "imputed_col = movies.columns\n",
        "imputed_in = movies.index\n",
        "\n",
        "movies = pd.DataFrame(imp_freq.fit_transform(movies))\n",
        "movies.columns = imputed_col\n",
        "movies.index = imputed_in\n",
        "\n",
        "print ('Number of Missing Observations after replacement is: {}'.format(movies.isna().sum().sum()))\n",
        "# pd.set_option('display.max_rows', None)\n",
        "# pd.set_option('display.max_columns', None)\n",
        "# print(movies)"
      ],
      "execution_count": 10,
      "outputs": [
        {
          "output_type": "stream",
          "text": [
            "Number of Missing Observations is: 73\n",
            "No of rows having any missing feature is 28\n",
            "Size after dropping null value: (572, 31)\n",
            "Number of Missing Observations after replacement is: 0\n"
          ],
          "name": "stdout"
        }
      ]
    },
    {
      "cell_type": "markdown",
      "metadata": {
        "id": "qDr11sjlBk_W",
        "colab_type": "text"
      },
      "source": [
        "---\n",
        "## Part 3 - Visualizing data \n",
        "---"
      ]
    },
    {
      "cell_type": "markdown",
      "metadata": {
        "id": "wC_w1zNCBw2G",
        "colab_type": "text"
      },
      "source": [
        "### Visualize the ```df``` by drawing the following plots:\n",
        "\n",
        "* Plot a histogram of ```Age``` and find the range in which most people are there. \n",
        "* Modify the histogram of ```Age``` by adding 30 bins. \n",
        "* Draw a scatter plot between ```Age``` and ```Attrition``` and suitable labels to the axes. Find out whether people more than 50 years are more likely to leave the company. (```Attrition``` = 1 means people have left the company). "
      ]
    },
    {
      "cell_type": "code",
      "metadata": {
        "id": "645EwAsoH63i",
        "colab_type": "code",
        "colab": {
          "base_uri": "https://localhost:8080/",
          "height": 842
        },
        "outputId": "92cb0d89-13df-4b80-ff14-44ec32eb0551"
      },
      "source": [
        "# Plot and modify the histogram of Age\n",
        "plt.hist(df['Age'])\n",
        "plt.title('Histogram for Age')\n",
        "plt.show()\n",
        "print (\"Maximum in range 30 - 35\")\n",
        "\n",
        "plt.hist(df['Age'], bins = 30)\n",
        "plt.title('30 bins for Age')\n",
        "plt.show()\n",
        "\n",
        "# Draw a scatter plot between Age and Attrition\n",
        "df.plot.scatter('Age','Attrition')\n",
        "plt.show()\n",
        "print(\"No\")"
      ],
      "execution_count": 11,
      "outputs": [
        {
          "output_type": "display_data",
          "data": {
            "image/png": "[encoded data removed]",
            "text/plain": [
              "<Figure size 432x288 with 1 Axes>"
            ]
          },
          "metadata": {
            "tags": [],
            "needs_background": "light"
          }
        },
        {
          "output_type": "stream",
          "text": [
            "Maximum in range 30 - 35\n"
          ],
          "name": "stdout"
        },
        {
          "output_type": "display_data",
          "data": {
            "image/png": "[encoded data removed]",
            "text/plain": [
              "<Figure size 432x288 with 1 Axes>"
            ]
          },
          "metadata": {
            "tags": [],
            "needs_background": "light"
          }
        },
        {
          "output_type": "display_data",
          "data": {
            "image/png": "[encoded data removed]",
            "text/plain": [
              "<Figure size 432x288 with 1 Axes>"
            ]
          },
          "metadata": {
            "tags": [],
            "needs_background": "light"
          }
        },
        {
          "output_type": "stream",
          "text": [
            "No\n"
          ],
          "name": "stdout"
        }
      ]
    },
    {
      "cell_type": "markdown",
      "metadata": {
        "id": "eez_pkZ-HDKP",
        "colab_type": "text"
      },
      "source": [
        "### Visualize the ```df``` by following the steps given below:\n",
        "\n",
        "* Get a series containing counts of unique values of ```Attrition```.\n",
        "* Draw a countplot for ```Attrition``` using ```sns.countplot()```. "
      ]
    },
    {
      "cell_type": "code",
      "metadata": {
        "id": "Tp8LnxLWIPfk",
        "colab_type": "code",
        "colab": {
          "base_uri": "https://localhost:8080/",
          "height": 279
        },
        "outputId": "eb3f2c22-572d-4e9c-9135-113815968098"
      },
      "source": [
        "# Get a series of counts of values of Attrition\n",
        "df['Attrition'].value_counts()\n",
        "\n",
        "# Draw a countplot for Attrition \n",
        "# You may use countplot of seaborn for this \n",
        "sns.countplot(x=\"Attrition\", data=df)\n",
        "plt.show()"
      ],
      "execution_count": 12,
      "outputs": [
        {
          "output_type": "display_data",
          "data": {
            "image/png": "[encoded data removed]",
            "text/plain": [
              "<Figure size 432x288 with 1 Axes>"
            ]
          },
          "metadata": {
            "tags": [],
            "needs_background": "light"
          }
        }
      ]
    },
    {
      "cell_type": "markdown",
      "metadata": {
        "id": "Vi01m9MBHaJD",
        "colab_type": "text"
      },
      "source": [
        "### Visualize the ```df``` by following the steps given below:\n",
        "\n",
        "* Draw a cross tabulation of ```Attrition``` and ```BusinessTravel``` as bar charts. Find which value of ```BusinessTravel``` has highest number of people."
      ]
    },
    {
      "cell_type": "code",
      "metadata": {
        "id": "5OHAeOqeIQVM",
        "colab_type": "code",
        "colab": {
          "base_uri": "https://localhost:8080/",
          "height": 392
        },
        "outputId": "0e52173d-25b3-4632-c2eb-aad93e4dd826"
      },
      "source": [
        "# Draw a cross tab of Attritiona and BusinessTravel \n",
        "# You may use crosstab of pandas for this \n",
        "\n",
        "ct = pd.crosstab(df['BusinessTravel'],df['Attrition'])\n",
        "ct.plot.bar()\n",
        "plt.ylabel('Count')\n",
        "\n",
        "print(\"Travel Rarely has highest number of people\",end = \"\\n\\n\")"
      ],
      "execution_count": 13,
      "outputs": [
        {
          "output_type": "stream",
          "text": [
            "Travel Rarely has highest number of people\n",
            "\n"
          ],
          "name": "stdout"
        },
        {
          "output_type": "display_data",
          "data": {
            "image/png": "[encoded data removed]",
            "text/plain": [
              "<Figure size 432x288 with 1 Axes>"
            ]
          },
          "metadata": {
            "tags": [],
            "needs_background": "light"
          }
        }
      ]
    },
    {
      "cell_type": "markdown",
      "metadata": {
        "id": "1FCc9ZkUHfqL",
        "colab_type": "text"
      },
      "source": [
        "### Visualize the ```df``` by drawing the following plot:\n",
        "\n",
        "* Draw a stacked bar chart between ```Attrition``` and ```Gender``` columns. "
      ]
    },
    {
      "cell_type": "code",
      "metadata": {
        "id": "58ELSAXBIQST",
        "colab_type": "code",
        "colab": {
          "base_uri": "https://localhost:8080/",
          "height": 305
        },
        "outputId": "935b15fb-fd3c-46c3-d7bf-9055a5910da2"
      },
      "source": [
        "# Draw a stacked bar chart between Attrition and Gender \n",
        "ct = pd.crosstab(df['Gender'],df['Attrition'])\n",
        "ct.plot.bar(stacked = True)\n",
        "plt.show()"
      ],
      "execution_count": 14,
      "outputs": [
        {
          "output_type": "display_data",
          "data": {
            "image/png": "[encoded data removed]",
            "text/plain": [
              "<Figure size 432x288 with 1 Axes>"
            ]
          },
          "metadata": {
            "tags": [],
            "needs_background": "light"
          }
        }
      ]
    },
    {
      "cell_type": "markdown",
      "metadata": {
        "id": "vZzsi8_QLEdq",
        "colab_type": "text"
      },
      "source": [
        "### Visualize the ```df``` by drawing the following histogram:\n",
        "\n",
        "* Draw a histogram of ```TotalWorkingYears``` with 30 bins. \n",
        "* Draw a histogram of ```YearsAtCompany``` with 30 bins and find whether the values in ```YearsAtCompany``` are skewed. "
      ]
    },
    {
      "cell_type": "code",
      "metadata": {
        "id": "zvSlfj3FLUvV",
        "colab_type": "code",
        "colab": {
          "base_uri": "https://localhost:8080/",
          "height": 455
        },
        "outputId": "aacc3812-0e13-4db1-f5a4-00305baf99d3"
      },
      "source": [
        "# Draw a histogram of TotalWorkingYears with 30 bins\n",
        "plt.figure(figsize=(10,3))\n",
        "plt.hist(df['TotalWorkingYears'],bins=30)\n",
        "plt.ylabel('Count')\n",
        "plt.title('Histogram for Total Working Years')\n",
        "plt.show()\n",
        "\n",
        "# Draw a histogram of YearsAtCompany\n",
        "plt.figure(figsize=(10,3))\n",
        "plt.hist(df['YearsAtCompany'],bins=30)\n",
        "plt.ylabel('Count')\n",
        "plt.title('Histogram for Years at Company')\n",
        "plt.show()\n",
        "\n",
        "print(\"Yes, the value for years at company is skewed\")"
      ],
      "execution_count": 15,
      "outputs": [
        {
          "output_type": "display_data",
          "data": {
            "image/png": "[encoded data removed]",
            "text/plain": [
              "<Figure size 720x216 with 1 Axes>"
            ]
          },
          "metadata": {
            "tags": [],
            "needs_background": "light"
          }
        },
        {
          "output_type": "display_data",
          "data": {
            "image/png": "[encoded data removed]",
            "text/plain": [
              "<Figure size 720x216 with 1 Axes>"
            ]
          },
          "metadata": {
            "tags": [],
            "needs_background": "light"
          }
        },
        {
          "output_type": "stream",
          "text": [
            "Yes, the value for years at company is skewed\n"
          ],
          "name": "stdout"
        }
      ]
    },
    {
      "cell_type": "markdown",
      "metadata": {
        "id": "oBcsFqz-Moja",
        "colab_type": "text"
      },
      "source": [
        "### Visualize the ```df``` by drawing the following boxplot:\n",
        "\n",
        "* Draw a boxplot of ```MonthlyIncome``` for each ```Department``` and report whether there is/are outlier(s). \n"
      ]
    },
    {
      "cell_type": "code",
      "metadata": {
        "id": "S6zsSE65NED9",
        "colab_type": "code",
        "colab": {
          "base_uri": "https://localhost:8080/",
          "height": 330
        },
        "outputId": "80bc94a2-abc0-4423-c526-3be5bfa0020f"
      },
      "source": [
        "# Draw a boxplot of MonthlyIncome for each Department and report outliers \n",
        "chart = sns.boxplot('MonthlyIncome','Department',data = df)\n",
        "plt.title('BoxPlot')\n",
        "plt.show()\n",
        "\n",
        "print(\"\\nThere are outliers in 'Sales' and 'Research&Development'\")"
      ],
      "execution_count": 16,
      "outputs": [
        {
          "output_type": "display_data",
          "data": {
            "image/png": "[encoded data removed]",
            "text/plain": [
              "<Figure size 432x288 with 1 Axes>"
            ]
          },
          "metadata": {
            "tags": [],
            "needs_background": "light"
          }
        },
        {
          "output_type": "stream",
          "text": [
            "\n",
            "There are outliers in 'Sales' and 'Research&Development'\n"
          ],
          "name": "stdout"
        }
      ]
    },
    {
      "cell_type": "markdown",
      "metadata": {
        "id": "NRPgJjp-NX07",
        "colab_type": "text"
      },
      "source": [
        "### Visualize the ```df``` by drawing the following piechart:\n",
        "\n",
        "* Create a pie chart of the values in ```JobRole``` with suitable label and report which role has highest number of persons. "
      ]
    },
    {
      "cell_type": "code",
      "metadata": {
        "id": "5pr2HVVGNlaV",
        "colab_type": "code",
        "colab": {
          "base_uri": "https://localhost:8080/",
          "height": 248
        },
        "outputId": "6f1569e1-58b5-4876-a3cf-09764925f4f8"
      },
      "source": [
        "# Create a piechart of JobRole \n",
        "# You will need to find the counts of unique values in JobRole. \n",
        "job_counts = df.JobRole.value_counts()\n",
        "plt.pie(job_counts,labels = job_counts.index.tolist())\n",
        "plt.show()"
      ],
      "execution_count": 17,
      "outputs": [
        {
          "output_type": "display_data",
          "data": {
            "image/png": "[encoded data removed]",
            "text/plain": [
              "<Figure size 432x288 with 1 Axes>"
            ]
          },
          "metadata": {
            "tags": []
          }
        }
      ]
    }
  ]
}